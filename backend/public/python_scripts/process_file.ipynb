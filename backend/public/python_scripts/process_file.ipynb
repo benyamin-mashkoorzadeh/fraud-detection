{
  "cells": [
    {
      "cell_type": "code",
      "execution_count": 1,
      "id": "abc123",
      "metadata": {},
      "outputs": [
        {
          "name": "stdout",
          "output_type": "stream",
          "text": [
            "Hello from Jupyter Notebook!\n"
          ]
        }
      ],
      "source": [
        "print('Hello from Jupyter Notebook!')\n"
      ]
    }
  ],
  "metadata": {},
  "nbformat": 4,
  "nbformat_minor": 5
}
