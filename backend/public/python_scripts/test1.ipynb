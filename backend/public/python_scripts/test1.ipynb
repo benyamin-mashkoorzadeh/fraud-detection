{
 "cells": [
  {
   "cell_type": "code",
   "execution_count": 1,
   "metadata": {},
   "outputs": [
    {
     "name": "stdout",
     "output_type": "stream",
     "text": [
      "Error: File not found\n"
     ]
    },
    {
     "ename": "SystemExit",
     "evalue": "1",
     "output_type": "error",
     "traceback": [
      "An exception has occurred, use %tb to see the full traceback.\n",
      "\u001b[0;31mSystemExit\u001b[0m\u001b[0;31m:\u001b[0m 1\n"
     ]
    },
    {
     "name": "stderr",
     "output_type": "stream",
     "text": [
      "/Users/benyamin/Library/Python/3.13/lib/python/site-packages/IPython/core/interactiveshell.py:3585: UserWarning: To exit: use 'exit', 'quit', or Ctrl-D.\n",
      "  warn(\"To exit: use 'exit', 'quit', or Ctrl-D.\", stacklevel=1)\n"
     ]
    }
   ],
   "source": [
    "import os\n",
    "import time\n",
    "import json\n",
    "import sys\n",
    "\n",
    "# مسیر ذخیره فایل در دایرکتوری storage لاراول\n",
    "progress_file = \"/Users/benyamin/Desktop/Dev/Projects/Laravel/tus/backend/storage/app/progress.json\"\n",
    "\n",
    "def save_progress(progress, status=\"running\", message=\"Processing...\", file_path=\"\"):\n",
    "    # چاپ داده‌ها برای بررسی\n",
    "    print(f\"Saving progress: {progress}, Status: {status}, Message: {message}, File Path: {file_path}\")\n",
    "    \n",
    "    # ذخیره به فایل JSON\n",
    "    with open(progress_file, \"w\") as f:\n",
    "        json.dump({\n",
    "            \"progress\": progress, \n",
    "            \"status\": status, \n",
    "            \"message\": message, \n",
    "            \"file\": file_path\n",
    "        }, f)\n",
    "    \n",
    "    # بررسی محتوای فایل بعد از ذخیره‌سازی\n",
    "    with open(progress_file, \"r\") as f:\n",
    "        data = json.load(f)\n",
    "        print(\"File content:\", data)\n",
    "\n",
    "        \n",
    "# دریافت مسیر فایل از متغیر محیطی\n",
    "file_path = os.environ.get(\"FILE_PATH\", \"\")\n",
    "\n",
    "print(f\"Received file path: {repr(file_path)}\")  # لاگ برای بررسی\n",
    "\n",
    "# بررسی اینکه مسیر فایل دریافت شده یا نه\n",
    "if not file_path:\n",
    "    save_progress(0, status=\"error\", message=\"No file path received\")\n",
    "    print(\"Error: No file path received\")\n",
    "    sys.exit(1)\n",
    "\n",
    "# بررسی اینکه فایل وجود دارد یا نه\n",
    "if not os.path.exists(file_path):\n",
    "    save_progress(0, status=\"error\", message=\"File not found\", file_path=file_path)\n",
    "    print(f\"Error: File not found - {file_path}\")\n",
    "    sys.exit(1)\n",
    "\n",
    "# پردازش داده‌ها\n",
    "def process_data(file_path):\n",
    "    print(f\"Processing file: {file_path}\")\n",
    "    \n",
    "    total_steps = 100\n",
    "    for step in range(1, total_steps + 1):\n",
    "        time.sleep(1)  # شبیه‌سازی زمان پردازش\n",
    "        progress = int((step / total_steps) * 100)\n",
    "        save_progress(progress, status=\"running\", message=f\"Processing... {progress}%\", file_path=file_path)  # ذخیره درصد پیشرفت\n",
    "        print(f\"Progress: {progress}%\")  # نمایش در لاگ\n",
    "\n",
    "    # بعد از تکمیل پردازش\n",
    "    save_progress(100, status=\"success\", message=\"Execution completed successfully\", file_path=file_path)\n",
    "    print(\"Success: Execution completed successfully!\")\n",
    "# ذخیره وضعیت شروع پردازش\n",
    "save_progress(0, message=\"Starting process...\", file_path=file_path)\n",
    "\n",
    "# اجرای پردازش\n",
    "process_data(file_path)"
   ]
  }
 ],
 "metadata": {
  "kernelspec": {
   "display_name": "Python 3",
   "language": "python",
   "name": "python3"
  },
  "language_info": {
   "codemirror_mode": {
    "name": "ipython",
    "version": 3
   },
   "file_extension": ".py",
   "mimetype": "text/x-python",
   "name": "python",
   "nbconvert_exporter": "python",
   "pygments_lexer": "ipython3",
   "version": "3.13.1"
  }
 },
 "nbformat": 4,
 "nbformat_minor": 2
}
